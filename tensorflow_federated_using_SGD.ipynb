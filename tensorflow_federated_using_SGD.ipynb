{
  "cells": [
    {
      "cell_type": "code",
      "execution_count": null,
      "metadata": {
        "colab": {
          "base_uri": "https://localhost:8080/"
        },
        "id": "5k72zYIrGGJT",
        "outputId": "075d6009-e4d5-426e-d822-9b75c5f54a07"
      },
      "outputs": [
        {
          "name": "stdout",
          "output_type": "stream",
          "text": [
            "\r0% [Working]\r            \rGet:1 https://cloud.r-project.org/bin/linux/ubuntu focal-cran40/ InRelease [3,622 B]\n",
            "\r0% [Waiting for headers] [Connecting to security.ubuntu.com (185.125.190.39)] [\r0% [Waiting for headers] [Connecting to security.ubuntu.com (185.125.190.39)] [\r                                                                               \rHit:2 http://archive.ubuntu.com/ubuntu focal InRelease\n",
            "\r0% [Waiting for headers] [Connecting to security.ubuntu.com (185.125.190.39)] [\r                                                                               \rGet:3 http://archive.ubuntu.com/ubuntu focal-updates InRelease [114 kB]\n",
            "Get:4 https://developer.download.nvidia.com/compute/cuda/repos/ubuntu2004/x86_64  InRelease [1,581 B]\n",
            "Get:5 http://archive.ubuntu.com/ubuntu focal-backports InRelease [108 kB]\n",
            "Hit:6 http://ppa.launchpad.net/c2d4u.team/c2d4u4.0+/ubuntu focal InRelease\n",
            "Hit:7 http://ppa.launchpad.net/cran/libgit2/ubuntu focal InRelease\n",
            "Get:8 http://ppa.launchpad.net/deadsnakes/ppa/ubuntu focal InRelease [18.1 kB]\n",
            "Get:9 http://ppa.launchpad.net/graphics-drivers/ppa/ubuntu focal InRelease [24.3 kB]\n",
            "Get:10 https://developer.download.nvidia.com/compute/cuda/repos/ubuntu2004/x86_64  Packages [975 kB]\n",
            "Get:11 http://security.ubuntu.com/ubuntu focal-security InRelease [114 kB]\n",
            "Hit:12 http://ppa.launchpad.net/ubuntugis/ppa/ubuntu focal InRelease\n",
            "Get:13 http://archive.ubuntu.com/ubuntu focal-updates/multiverse amd64 Packages [31.2 kB]\n",
            "Get:14 http://archive.ubuntu.com/ubuntu focal-updates/main amd64 Packages [3,111 kB]\n",
            "Get:15 http://archive.ubuntu.com/ubuntu focal-updates/universe amd64 Packages [1,329 kB]\n",
            "Get:16 http://archive.ubuntu.com/ubuntu focal-updates/restricted amd64 Packages [2,277 kB]\n",
            "Get:17 http://ppa.launchpad.net/deadsnakes/ppa/ubuntu focal/main amd64 Packages [29.5 kB]\n",
            "Get:18 http://ppa.launchpad.net/graphics-drivers/ppa/ubuntu focal/main amd64 Packages [46.7 kB]\n",
            "Get:19 http://security.ubuntu.com/ubuntu focal-security/main amd64 Packages [2,629 kB]\n",
            "Get:20 http://security.ubuntu.com/ubuntu focal-security/universe amd64 Packages [1,033 kB]\n",
            "Get:21 http://security.ubuntu.com/ubuntu focal-security/restricted amd64 Packages [2,139 kB]\n",
            "Get:22 http://security.ubuntu.com/ubuntu focal-security/multiverse amd64 Packages [28.5 kB]\n",
            "Fetched 14.0 MB in 20s (690 kB/s)\n",
            "Reading package lists... Done\n",
            "Reading package lists... Done\n",
            "Building dependency tree       \n",
            "Reading state information... Done\n",
            "python3.9 is already the newest version (3.9.16-1+focal1).\n",
            "0 upgraded, 0 newly installed, 0 to remove and 29 not upgraded.\n"
          ]
        }
      ],
      "source": [
        "!sudo apt-get update -y\n",
        "!sudo apt-get install python3.9\n",
        "\n",
        "#change alternatives\n",
        "!sudo update-alternatives --install /usr/bin/python3 python3 /usr/bin/python3.9 2\n"
      ]
    },
    {
      "cell_type": "code",
      "execution_count": null,
      "metadata": {
        "colab": {
          "base_uri": "https://localhost:8080/"
        },
        "id": "udK_ovpiF_xc",
        "outputId": "f78ef0e3-099e-42ee-e0ec-b26fd49a20bf"
      },
      "outputs": [
        {
          "name": "stdout",
          "output_type": "stream",
          "text": [
            "Python 3.9.16\n"
          ]
        }
      ],
      "source": [
        "!python --version"
      ]
    },
    {
      "cell_type": "code",
      "execution_count": null,
      "metadata": {
        "colab": {
          "base_uri": "https://localhost:8080/"
        },
        "id": "8wZLz-DjE-1j",
        "outputId": "d9cfd4ea-759a-4064-b7d6-8dfccccdf093"
      },
      "outputs": [
        {
          "name": "stdout",
          "output_type": "stream",
          "text": [
            "\u001b[2K     \u001b[90m━━━━━━━━━━━━━━━━━━━━━━━━━━━━━━━━━━━━━━━\u001b[0m \u001b[32m497.6/497.6 MB\u001b[0m \u001b[31m2.9 MB/s\u001b[0m eta \u001b[36m0:00:00\u001b[0m\n",
            "\u001b[2K     \u001b[90m━━━━━━━━━━━━━━━━━━━━━━━━━━━━━━━━━━━━━━━━\u001b[0m \u001b[32m5.8/5.8 MB\u001b[0m \u001b[31m93.3 MB/s\u001b[0m eta \u001b[36m0:00:00\u001b[0m\n",
            "\u001b[2K     \u001b[90m━━━━━━━━━━━━━━━━━━━━━━━━━━━━━━━━━━━━━━━━\u001b[0m \u001b[32m42.6/42.6 kB\u001b[0m \u001b[31m5.0 MB/s\u001b[0m eta \u001b[36m0:00:00\u001b[0m\n",
            "\u001b[2K     \u001b[90m━━━━━━━━━━━━━━━━━━━━━━━━━━━━━━━━━━━━━━\u001b[0m \u001b[32m462.5/462.5 kB\u001b[0m \u001b[31m41.5 MB/s\u001b[0m eta \u001b[36m0:00:00\u001b[0m\n",
            "\u001b[2K     \u001b[90m━━━━━━━━━━━━━━━━━━━━━━━━━━━━━━━━━━━━━━━━\u001b[0m \u001b[32m1.4/1.4 MB\u001b[0m \u001b[31m69.3 MB/s\u001b[0m eta \u001b[36m0:00:00\u001b[0m\n",
            "\u001b[2K     \u001b[90m━━━━━━━━━━━━━━━━━━━━━━━━━━━━━━━━━━━━━━━━\u001b[0m \u001b[32m4.9/4.9 MB\u001b[0m \u001b[31m90.8 MB/s\u001b[0m eta \u001b[36m0:00:00\u001b[0m\n",
            "\u001b[2K     \u001b[90m━━━━━━━━━━━━━━━━━━━━━━━━━━━━━━━━━━━━━━━━\u001b[0m \u001b[32m5.7/5.7 MB\u001b[0m \u001b[31m29.4 MB/s\u001b[0m eta \u001b[36m0:00:00\u001b[0m\n",
            "\u001b[2K     \u001b[90m━━━━━━━━━━━━━━━━━━━━━━━━━━━━━━━━━━━━━━\u001b[0m \u001b[32m819.9/819.9 kB\u001b[0m \u001b[31m35.3 MB/s\u001b[0m eta \u001b[36m0:00:00\u001b[0m\n",
            "\u001b[2K     \u001b[90m━━━━━━━━━━━━━━━━━━━━━━━━━━━━━━━━━━━━━━\u001b[0m \u001b[32m240.6/240.6 kB\u001b[0m \u001b[31m21.9 MB/s\u001b[0m eta \u001b[36m0:00:00\u001b[0m\n",
            "\u001b[2K     \u001b[90m━━━━━━━━━━━━━━━━━━━━━━━━━━━━━━━━━━━━━━━━\u001b[0m \u001b[32m65.2/65.2 MB\u001b[0m \u001b[31m12.1 MB/s\u001b[0m eta \u001b[36m0:00:00\u001b[0m\n",
            "\u001b[2K     \u001b[90m━━━━━━━━━━━━━━━━━━━━━━━━━━━━━━━━━━━━━━━━\u001b[0m \u001b[32m46.0/46.0 kB\u001b[0m \u001b[31m4.4 MB/s\u001b[0m eta \u001b[36m0:00:00\u001b[0m\n",
            "\u001b[2K     \u001b[90m━━━━━━━━━━━━━━━━━━━━━━━━━━━━━━━━━━━━━━━━\u001b[0m \u001b[32m4.0/4.0 MB\u001b[0m \u001b[31m66.1 MB/s\u001b[0m eta \u001b[36m0:00:00\u001b[0m\n",
            "\u001b[2K     \u001b[90m━━━━━━━━━━━━━━━━━━━━━━━━━━━━━━━━━━━━━━\u001b[0m \u001b[32m126.7/126.7 kB\u001b[0m \u001b[31m11.7 MB/s\u001b[0m eta \u001b[36m0:00:00\u001b[0m\n",
            "\u001b[2K     \u001b[90m━━━━━━━━━━━━━━━━━━━━━━━━━━━━━━━━━━━━━━━━\u001b[0m \u001b[32m15.7/15.7 MB\u001b[0m \u001b[31m56.8 MB/s\u001b[0m eta \u001b[36m0:00:00\u001b[0m\n",
            "\u001b[2K     \u001b[90m━━━━━━━━━━━━━━━━━━━━━━━━━━━━━━━━━━━━━━\u001b[0m \u001b[32m251.7/251.7 kB\u001b[0m \u001b[31m23.5 MB/s\u001b[0m eta \u001b[36m0:00:00\u001b[0m\n",
            "\u001b[2K     \u001b[90m━━━━━━━━━━━━━━━━━━━━━━━━━━━━━━━━━━━━━━\u001b[0m \u001b[32m120.2/120.2 kB\u001b[0m \u001b[31m10.7 MB/s\u001b[0m eta \u001b[36m0:00:00\u001b[0m\n",
            "\u001b[2K     \u001b[90m━━━━━━━━━━━━━━━━━━━━━━━━━━━━━━━━━━━━━━━━\u001b[0m \u001b[32m53.7/53.7 kB\u001b[0m \u001b[31m5.2 MB/s\u001b[0m eta \u001b[36m0:00:00\u001b[0m\n",
            "\u001b[2K     \u001b[90m━━━━━━━━━━━━━━━━━━━━━━━━━━━━━━━━━━━━━━\u001b[0m \u001b[32m887.3/887.3 kB\u001b[0m \u001b[31m49.1 MB/s\u001b[0m eta \u001b[36m0:00:00\u001b[0m\n",
            "\u001b[?25h  Preparing metadata (setup.py) ... \u001b[?25l\u001b[?25hdone\n",
            "\u001b[2K     \u001b[90m━━━━━━━━━━━━━━━━━━━━━━━━━━━━━━━━━━━━━━\u001b[0m \u001b[32m238.9/238.9 kB\u001b[0m \u001b[31m15.3 MB/s\u001b[0m eta \u001b[36m0:00:00\u001b[0m\n",
            "\u001b[?25h  Building wheel for jax (setup.py) ... \u001b[?25l\u001b[?25hdone\n",
            "\u001b[31mERROR: pip's dependency resolver does not currently take into account all the packages that are installed. This behaviour is the source of the following dependency conflicts.\n",
            "spacy 3.5.1 requires tqdm<5.0.0,>=4.38.0, but you have tqdm 4.28.1 which is incompatible.\n",
            "pymc 5.1.2 requires cachetools>=4.2.1, but you have cachetools 3.1.1 which is incompatible.\n",
            "prophet 1.1.2 requires tqdm>=4.36.1, but you have tqdm 4.28.1 which is incompatible.\n",
            "panel 0.14.4 requires tqdm>=4.48.0, but you have tqdm 4.28.1 which is incompatible.\n",
            "orbax 0.1.7 requires jax>=0.4.6, but you have jax 0.2.28 which is incompatible.\n",
            "grpcio-status 1.48.2 requires grpcio>=1.48.2, but you have grpcio 1.34.1 which is incompatible.\n",
            "google-cloud-bigquery 3.9.0 requires grpcio<2.0dev,>=1.47.0, but you have grpcio 1.34.1 which is incompatible.\n",
            "flax 0.6.8 requires jax>=0.4.2, but you have jax 0.2.28 which is incompatible.\n",
            "chex 0.1.7 requires jax>=0.4.6, but you have jax 0.2.28 which is incompatible.\u001b[0m\u001b[31m\n",
            "\u001b[0m"
          ]
        }
      ],
      "source": [
        "!pip install --quiet tensorflow==2.8.0\n",
        "!pip install --quiet tensorflow-probability==0.15.0\n",
        "!pip install --quiet tensorflow-federated==0.20.0\n",
        "!pip install --quiet --upgrade nest_asyncio"
      ]
    },
    {
      "cell_type": "code",
      "execution_count": null,
      "metadata": {
        "id": "XupR8BmTfhM_"
      },
      "outputs": [],
      "source": [
        "import collections\n",
        "import attr\n",
        "import functools\n",
        "import numpy as np\n",
        "import tensorflow as tf\n",
        "import tensorflow_federated as tff\n",
        "import tensorflow_datasets as tfds\n",
        "import random\n",
        "from sklearn.metrics import accuracy_score, confusion_matrix\n",
        "\n",
        "import nest_asyncio\n",
        "nest_asyncio.apply()\n",
        "\n",
        "np.random.seed(0)"
      ]
    },
    {
      "cell_type": "code",
      "execution_count": null,
      "metadata": {
        "colab": {
          "base_uri": "https://localhost:8080/",
          "height": 35
        },
        "id": "rlbGAnQz3C_G",
        "outputId": "5c590e23-1e72-4923-e0c1-ebeedcc38d31"
      },
      "outputs": [
        {
          "data": {
            "application/vnd.google.colaboratory.intrinsic+json": {
              "type": "string"
            },
            "text/plain": [
              "'2.8.0'"
            ]
          },
          "execution_count": 5,
          "metadata": {},
          "output_type": "execute_result"
        }
      ],
      "source": [
        "tf.version.VERSION"
      ]
    },
    {
      "cell_type": "code",
      "execution_count": null,
      "metadata": {
        "id": "D5kh6ioqgLzQ"
      },
      "outputs": [],
      "source": [
        "import tensorflow as tf \n",
        "from tensorflow.keras.models import Sequential\n",
        "from tensorflow.keras.layers import Activation, Dense, Dropout, Embedding, Flatten, Conv1D, MaxPooling1D, LSTM, GRU, concatenate\n",
        "from tensorflow.keras import utils\n",
        "from tensorflow.keras.callbacks import ReduceLROnPlateau, EarlyStopping\n",
        "from tensorflow.keras.optimizers import Adam\n",
        "from tensorflow.keras.initializers import HeNormal\n",
        "from tensorflow.keras.regularizers import L2\n",
        "from tensorflow.keras import Input, Model, layers\n",
        "from tensorflow.keras.callbacks import ReduceLROnPlateau, EarlyStopping, ModelCheckpoint\n",
        "from sklearn.metrics import roc_auc_score\n",
        "from tensorflow.keras import backend as K"
      ]
    },
    {
      "cell_type": "code",
      "execution_count": null,
      "metadata": {
        "id": "jG4sTbuOSYqe"
      },
      "outputs": [],
      "source": [
        "import pickle\n",
        "\n",
        "# Open the file in binary mode\n",
        "with open('/content/drive/MyDrive/Practicum/Kilaru_OUDSA5900/df_processed_2.pkl', 'rb') as file:\n",
        "  # Call load method to deserialze\n",
        "  df_train = pickle.load(file)"
      ]
    },
    {
      "cell_type": "code",
      "execution_count": null,
      "metadata": {
        "id": "Z0rh8eouWvV6"
      },
      "outputs": [],
      "source": [
        "import pickle\n",
        "\n",
        "# Open the file in binary mode\n",
        "with open('/content/drive/MyDrive/Practicum/Kilaru_OUDSA5900/df_test_processed_2.pkl', 'rb') as file:\n",
        "  # Call load method to deserialze\n",
        "  df_test = pickle.load(file)"
      ]
    },
    {
      "cell_type": "code",
      "execution_count": null,
      "metadata": {
        "id": "UvzPwIGYS0Gs"
      },
      "outputs": [],
      "source": [
        "# Open the file in binary mode\n",
        "# with open('/content/drive/MyDrive/Practicum/Kilaru_OUDSA5900/my_df_train_org.pkl', 'rb') as file:\n",
        "#   # Call load method to deserialze\n",
        "#   df_train = pickle.load(file)"
      ]
    },
    {
      "cell_type": "code",
      "execution_count": null,
      "metadata": {
        "id": "Fe7pRaznuY1w"
      },
      "outputs": [],
      "source": [
        "df_train['polarity'] = df_train['polarity'].replace(4, 1)"
      ]
    },
    {
      "cell_type": "code",
      "execution_count": null,
      "metadata": {
        "colab": {
          "base_uri": "https://localhost:8080/",
          "height": 206
        },
        "id": "4cYTxjS4UJrM",
        "outputId": "7a980733-e899-49ed-eac0-918ceea0de01"
      },
      "outputs": [
        {
          "data": {
            "text/html": [
              "\n",
              "  <div id=\"df-83e94b37-b1a1-435a-a62a-51c0b2a5bf6a\">\n",
              "    <div class=\"colab-df-container\">\n",
              "      <div>\n",
              "<style scoped>\n",
              "    .dataframe tbody tr th:only-of-type {\n",
              "        vertical-align: middle;\n",
              "    }\n",
              "\n",
              "    .dataframe tbody tr th {\n",
              "        vertical-align: top;\n",
              "    }\n",
              "\n",
              "    .dataframe thead th {\n",
              "        text-align: right;\n",
              "    }\n",
              "</style>\n",
              "<table border=\"1\" class=\"dataframe\">\n",
              "  <thead>\n",
              "    <tr style=\"text-align: right;\">\n",
              "      <th></th>\n",
              "      <th>_id</th>\n",
              "      <th>game</th>\n",
              "      <th>sentiment</th>\n",
              "      <th>text</th>\n",
              "    </tr>\n",
              "  </thead>\n",
              "  <tbody>\n",
              "    <tr>\n",
              "      <th>0</th>\n",
              "      <td>2401</td>\n",
              "      <td>Borderlands</td>\n",
              "      <td>1</td>\n",
              "      <td>im get borderland murder</td>\n",
              "    </tr>\n",
              "    <tr>\n",
              "      <th>1</th>\n",
              "      <td>2401</td>\n",
              "      <td>Borderlands</td>\n",
              "      <td>1</td>\n",
              "      <td>come border kill</td>\n",
              "    </tr>\n",
              "    <tr>\n",
              "      <th>2</th>\n",
              "      <td>2401</td>\n",
              "      <td>Borderlands</td>\n",
              "      <td>1</td>\n",
              "      <td>im get borderland kill</td>\n",
              "    </tr>\n",
              "    <tr>\n",
              "      <th>3</th>\n",
              "      <td>2401</td>\n",
              "      <td>Borderlands</td>\n",
              "      <td>1</td>\n",
              "      <td>im come borderland murder</td>\n",
              "    </tr>\n",
              "    <tr>\n",
              "      <th>4</th>\n",
              "      <td>2401</td>\n",
              "      <td>Borderlands</td>\n",
              "      <td>1</td>\n",
              "      <td>im get borderland murder</td>\n",
              "    </tr>\n",
              "  </tbody>\n",
              "</table>\n",
              "</div>\n",
              "      <button class=\"colab-df-convert\" onclick=\"convertToInteractive('df-83e94b37-b1a1-435a-a62a-51c0b2a5bf6a')\"\n",
              "              title=\"Convert this dataframe to an interactive table.\"\n",
              "              style=\"display:none;\">\n",
              "        \n",
              "  <svg xmlns=\"http://www.w3.org/2000/svg\" height=\"24px\"viewBox=\"0 0 24 24\"\n",
              "       width=\"24px\">\n",
              "    <path d=\"M0 0h24v24H0V0z\" fill=\"none\"/>\n",
              "    <path d=\"M18.56 5.44l.94 2.06.94-2.06 2.06-.94-2.06-.94-.94-2.06-.94 2.06-2.06.94zm-11 1L8.5 8.5l.94-2.06 2.06-.94-2.06-.94L8.5 2.5l-.94 2.06-2.06.94zm10 10l.94 2.06.94-2.06 2.06-.94-2.06-.94-.94-2.06-.94 2.06-2.06.94z\"/><path d=\"M17.41 7.96l-1.37-1.37c-.4-.4-.92-.59-1.43-.59-.52 0-1.04.2-1.43.59L10.3 9.45l-7.72 7.72c-.78.78-.78 2.05 0 2.83L4 21.41c.39.39.9.59 1.41.59.51 0 1.02-.2 1.41-.59l7.78-7.78 2.81-2.81c.8-.78.8-2.07 0-2.86zM5.41 20L4 18.59l7.72-7.72 1.47 1.35L5.41 20z\"/>\n",
              "  </svg>\n",
              "      </button>\n",
              "      \n",
              "  <style>\n",
              "    .colab-df-container {\n",
              "      display:flex;\n",
              "      flex-wrap:wrap;\n",
              "      gap: 12px;\n",
              "    }\n",
              "\n",
              "    .colab-df-convert {\n",
              "      background-color: #E8F0FE;\n",
              "      border: none;\n",
              "      border-radius: 50%;\n",
              "      cursor: pointer;\n",
              "      display: none;\n",
              "      fill: #1967D2;\n",
              "      height: 32px;\n",
              "      padding: 0 0 0 0;\n",
              "      width: 32px;\n",
              "    }\n",
              "\n",
              "    .colab-df-convert:hover {\n",
              "      background-color: #E2EBFA;\n",
              "      box-shadow: 0px 1px 2px rgba(60, 64, 67, 0.3), 0px 1px 3px 1px rgba(60, 64, 67, 0.15);\n",
              "      fill: #174EA6;\n",
              "    }\n",
              "\n",
              "    [theme=dark] .colab-df-convert {\n",
              "      background-color: #3B4455;\n",
              "      fill: #D2E3FC;\n",
              "    }\n",
              "\n",
              "    [theme=dark] .colab-df-convert:hover {\n",
              "      background-color: #434B5C;\n",
              "      box-shadow: 0px 1px 3px 1px rgba(0, 0, 0, 0.15);\n",
              "      filter: drop-shadow(0px 1px 2px rgba(0, 0, 0, 0.3));\n",
              "      fill: #FFFFFF;\n",
              "    }\n",
              "  </style>\n",
              "\n",
              "      <script>\n",
              "        const buttonEl =\n",
              "          document.querySelector('#df-83e94b37-b1a1-435a-a62a-51c0b2a5bf6a button.colab-df-convert');\n",
              "        buttonEl.style.display =\n",
              "          google.colab.kernel.accessAllowed ? 'block' : 'none';\n",
              "\n",
              "        async function convertToInteractive(key) {\n",
              "          const element = document.querySelector('#df-83e94b37-b1a1-435a-a62a-51c0b2a5bf6a');\n",
              "          const dataTable =\n",
              "            await google.colab.kernel.invokeFunction('convertToInteractive',\n",
              "                                                     [key], {});\n",
              "          if (!dataTable) return;\n",
              "\n",
              "          const docLinkHtml = 'Like what you see? Visit the ' +\n",
              "            '<a target=\"_blank\" href=https://colab.research.google.com/notebooks/data_table.ipynb>data table notebook</a>'\n",
              "            + ' to learn more about interactive tables.';\n",
              "          element.innerHTML = '';\n",
              "          dataTable['output_type'] = 'display_data';\n",
              "          await google.colab.output.renderOutput(dataTable, element);\n",
              "          const docLink = document.createElement('div');\n",
              "          docLink.innerHTML = docLinkHtml;\n",
              "          element.appendChild(docLink);\n",
              "        }\n",
              "      </script>\n",
              "    </div>\n",
              "  </div>\n",
              "  "
            ],
            "text/plain": [
              "    _id         game  sentiment                       text\n",
              "0  2401  Borderlands          1   im get borderland murder\n",
              "1  2401  Borderlands          1           come border kill\n",
              "2  2401  Borderlands          1     im get borderland kill\n",
              "3  2401  Borderlands          1  im come borderland murder\n",
              "4  2401  Borderlands          1   im get borderland murder"
            ]
          },
          "execution_count": 7,
          "metadata": {},
          "output_type": "execute_result"
        }
      ],
      "source": [
        "#df_train['clean']= train_data\n",
        "df_train.head()"
      ]
    },
    {
      "cell_type": "code",
      "execution_count": null,
      "metadata": {
        "colab": {
          "base_uri": "https://localhost:8080/"
        },
        "id": "gdd5bI3dFObk",
        "outputId": "b9383c33-5c37-4cf6-cd4c-b89940c8152f"
      },
      "outputs": [
        {
          "data": {
            "text/plain": [
              "array([0, 1])"
            ]
          },
          "execution_count": 8,
          "metadata": {},
          "output_type": "execute_result"
        }
      ],
      "source": [
        "np.unique(df_train['sentiment'])"
      ]
    },
    {
      "cell_type": "code",
      "execution_count": null,
      "metadata": {
        "id": "uKASU7NzQfTu"
      },
      "outputs": [],
      "source": [
        "max_length = 100\n",
        "vocab_size = 1000"
      ]
    },
    {
      "cell_type": "code",
      "execution_count": null,
      "metadata": {
        "id": "jVY5MBTUT_WT"
      },
      "outputs": [],
      "source": [
        "from sklearn.model_selection import train_test_split\n",
        "np.random.seed(123)\n",
        "df_train = df_train.sample(frac = 1)\n",
        "\n",
        "#X_train, X_test, Y_train, Y_test = train_test_split (df_train['clean'],Y,test_size=0.05, random_state = 123, shuffle = True)\n",
        "train_data, valid_data = train_test_split (df_train,random_state=42, stratify=df_train[\"sentiment\"], test_size=0.2)"
      ]
    },
    {
      "cell_type": "code",
      "execution_count": null,
      "metadata": {
        "colab": {
          "base_uri": "https://localhost:8080/"
        },
        "id": "CTi6saehunSe",
        "outputId": "3b37a0a3-43e9-4a9e-c9d2-e205ae7745ea"
      },
      "outputs": [
        {
          "name": "stdout",
          "output_type": "stream",
          "text": [
            "the length of positive examples in train data is 16666\n",
            "the length of negative examples in train data is 18033\n"
          ]
        }
      ],
      "source": [
        "print(f\"the length of positive examples in train data is {len(train_data[train_data['sentiment']==1])}\")\n",
        "print(f\"the length of negative examples in train data is {len(train_data[train_data['sentiment']==0])}\")"
      ]
    },
    {
      "cell_type": "code",
      "execution_count": null,
      "metadata": {
        "id": "W9OcHgbOSSqp"
      },
      "outputs": [],
      "source": [
        "from tensorflow.keras.preprocessing.text import Tokenizer\n",
        "# Reload Twitter dataset with new Vocabulary\n",
        "tokenizer = Tokenizer(num_words=vocab_size,filters='@', split = \" \")\n",
        "tokenizer.fit_on_texts(train_data[\"text\"])"
      ]
    },
    {
      "cell_type": "code",
      "execution_count": null,
      "metadata": {
        "id": "MqZUHs2-adt_"
      },
      "outputs": [],
      "source": [
        "# Vectorize input text using Vocabulary\n",
        "X_train_vectorized = tokenizer.texts_to_sequences(train_data['text'])\n",
        "X_valid_vectorized = tokenizer.texts_to_sequences(valid_data['text'])\n",
        "X_test_vectorized = tokenizer.texts_to_sequences(df_test['text'])"
      ]
    },
    {
      "cell_type": "code",
      "execution_count": null,
      "metadata": {
        "id": "0efTEL7MaodH"
      },
      "outputs": [],
      "source": [
        "from tensorflow.keras.preprocessing.sequence import pad_sequences\n",
        "\n",
        "X_train_padded = pad_sequences(sequences = X_train_vectorized, maxlen = max_length, padding = 'post', truncating = 'post')\n",
        "X_valid_padded = pad_sequences(sequences = X_valid_vectorized, maxlen = max_length, padding = 'post', truncating = 'post')\n",
        "X_test_paded = pad_sequences(sequences = X_test_vectorized, maxlen = max_length, padding = 'post', truncating = 'post')"
      ]
    },
    {
      "cell_type": "code",
      "execution_count": null,
      "metadata": {
        "colab": {
          "base_uri": "https://localhost:8080/"
        },
        "id": "PN01ft67q0GL",
        "outputId": "066aad0b-8be3-4a15-b719-e518603c9e53"
      },
      "outputs": [
        {
          "data": {
            "text/plain": [
              "(34699, 100)"
            ]
          },
          "execution_count": 13,
          "metadata": {},
          "output_type": "execute_result"
        }
      ],
      "source": [
        "X_train_padded.shape"
      ]
    },
    {
      "cell_type": "code",
      "execution_count": null,
      "metadata": {
        "id": "l_zyLkw4QKm5"
      },
      "outputs": [],
      "source": [
        "embeddings_index = dict()\n",
        "f = open('/content/drive/MyDrive/Practicum/Kilaru_OUDSA5900/glove.6B.100d.txt', encoding=\"utf8\")\n",
        "for line in f:\n",
        "    values = line.split()\n",
        "    word = values[0]\n",
        "    coefs = np.asarray(values[1:], dtype='float32')\n",
        "    embeddings_index[word] = coefs\n",
        "f.close()"
      ]
    },
    {
      "cell_type": "code",
      "execution_count": null,
      "metadata": {
        "id": "PlG4WM6CQSAq"
      },
      "outputs": [],
      "source": [
        "# Create Word Embedding Matrix\n",
        "embedding_matrix = np.zeros((vocab_size, 100))\n",
        "for i in range(1,vocab_size):\n",
        "    embedding_vector = embeddings_index.get(tokenizer.index_word[i])\n",
        "    if embedding_vector is not None:\n",
        "        embedding_matrix[i] = embedding_vector"
      ]
    },
    {
      "cell_type": "code",
      "execution_count": null,
      "metadata": {
        "id": "kPTcWGbhmNQU"
      },
      "outputs": [],
      "source": [
        "def create_keras_model(max_length = max_length,\n",
        "                       vocab_size = vocab_size,\n",
        "                       embedding_matrix = embedding_matrix):\n",
        "    '''\n",
        "    Function to create model for tweets classification\n",
        "    '''\n",
        "    # defining kernel initializer and regularizer\n",
        "    initializer = HeNormal()\n",
        "    regularizer = L2(l2=0.01)\n",
        "\n",
        "    # clearing backend session\n",
        "    #tf.keras.backend.clear_session()\n",
        "    \n",
        "    model = tf.keras.Sequential([ \n",
        "        tf.keras.layers.InputLayer(input_shape=(100,)),\n",
        "        Embedding(input_dim=vocab_size,output_dim=100,input_length=max_length,weights=[embedding_matrix],trainable=False),\n",
        "        #layers.SpatialDropout1D(0.2),\n",
        "        layers.Bidirectional(LSTM(64)),#,name='LSTM', kernel_regularizer = regularizer,\n",
        "                            #  kernel_initializer = initializer, return_sequences=False)),\n",
        "        #layers.Bidirectional(LSTM(64, kernel_regularizer = regularizer,\n",
        "                             #kernel_initializer = initializer)),\n",
        "        #layers.GaussianNoise(stddev=0.1),\n",
        "        #layers.Dense(64, activation='relu', kernel_regularizer = regularizer,\n",
        "                            #kernel_initializer = initializer),\n",
        "        layers.Dropout(0.5),\n",
        "        layers.Dense(1, activation = \"sigmoid\") #, use_bias = True)\n",
        "    ])\n",
        "                                                      \n",
        "    return model"
      ]
    },
    {
      "cell_type": "code",
      "execution_count": null,
      "metadata": {
        "id": "WNNeqgCnvMnA"
      },
      "outputs": [],
      "source": [
        "#model = create_keras_model()"
      ]
    },
    {
      "cell_type": "code",
      "execution_count": null,
      "metadata": {
        "id": "wYB_d9P4U8w-"
      },
      "outputs": [],
      "source": [
        "def Create_Clients(Data, Y, Num_Clients = 5, Client_Fst_Name = \"Client\"):\n",
        "  train_dataset_dict = collections.OrderedDict()\n",
        "  client_names = [\"{}_{}\".format(Client_Fst_Name, i) for i in range(Num_Clients)]\n",
        "\n",
        "  size = len(Data)//Num_Clients\n",
        "\n",
        "  client_dataset = {}\n",
        "\n",
        "  for i in range(Num_Clients):\n",
        "    #train = Data.iloc[i*size : (i+1) * size]\n",
        "    train = Data[i*size : (i+1) * size]\n",
        "    label = np.array(Y[i*size : (i+1) * size])\n",
        "    #client_dataset[client_names[i]] = Data.iloc[i*size : (i+1) * size]\n",
        "    #client_dataset[client_names[i]] = Data[i*size : (i+1) * size]\n",
        "    train_dataset_dict[client_names[i]] = collections.OrderedDict((('features', train),('labels',label)))\n",
        "\n",
        "  return train_dataset_dict"
      ]
    },
    {
      "cell_type": "code",
      "execution_count": null,
      "metadata": {
        "id": "62u38uShVHRk"
      },
      "outputs": [],
      "source": [
        "#data_per_client = Create_Clients(list(zip(X_train_padded, df_train['polarity'])), Num_Clients= 10)\n",
        "data_per_client = Create_Clients(X_train_padded, train_data['sentiment'], Num_Clients= 10)\n",
        "data_per_client_valid = Create_Clients(X_valid_padded, valid_data['sentiment'], Num_Clients= 10)"
      ]
    },
    {
      "cell_type": "code",
      "execution_count": null,
      "metadata": {
        "colab": {
          "base_uri": "https://localhost:8080/"
        },
        "id": "8bA2ZqzA-ugr",
        "outputId": "1dc2a407-862a-48e7-bf3c-7b6e6e05c101"
      },
      "outputs": [
        {
          "data": {
            "text/plain": [
              "1103"
            ]
          },
          "execution_count": 20,
          "metadata": {},
          "output_type": "execute_result"
        }
      ],
      "source": [
        "np.count_nonzero(data_per_client['Client_0']['labels'] == 1)"
      ]
    },
    {
      "cell_type": "code",
      "execution_count": null,
      "metadata": {
        "colab": {
          "base_uri": "https://localhost:8080/"
        },
        "id": "aeWvTghm-YIs",
        "outputId": "ca576c4a-0e9f-4cdb-eebd-ab29c9353091"
      },
      "outputs": [
        {
          "name": "stdout",
          "output_type": "stream",
          "text": [
            "for Client_0\n",
            "the length of positive examples in train data is 1645\n",
            "the length of negative examples in train data is 1824\n",
            "\n",
            "\n",
            "for Client_1\n",
            "the length of positive examples in train data is 1680\n",
            "the length of negative examples in train data is 1789\n",
            "\n",
            "\n",
            "for Client_2\n",
            "the length of positive examples in train data is 1702\n",
            "the length of negative examples in train data is 1767\n",
            "\n",
            "\n",
            "for Client_3\n",
            "the length of positive examples in train data is 1650\n",
            "the length of negative examples in train data is 1819\n",
            "\n",
            "\n",
            "for Client_4\n",
            "the length of positive examples in train data is 1626\n",
            "the length of negative examples in train data is 1843\n",
            "\n",
            "\n",
            "for Client_5\n",
            "the length of positive examples in train data is 1622\n",
            "the length of negative examples in train data is 1847\n",
            "\n",
            "\n",
            "for Client_6\n",
            "the length of positive examples in train data is 1653\n",
            "the length of negative examples in train data is 1816\n",
            "\n",
            "\n",
            "for Client_7\n",
            "the length of positive examples in train data is 1647\n",
            "the length of negative examples in train data is 1822\n",
            "\n",
            "\n",
            "for Client_8\n",
            "the length of positive examples in train data is 1722\n",
            "the length of negative examples in train data is 1747\n",
            "\n",
            "\n",
            "for Client_9\n",
            "the length of positive examples in train data is 1713\n",
            "the length of negative examples in train data is 1756\n",
            "\n",
            "\n"
          ]
        }
      ],
      "source": [
        "for client in data_per_client.keys():\n",
        "  print(f\"for {client}\")\n",
        "  print(f\"the length of positive examples in train data is {np.count_nonzero(data_per_client[client]['labels'] == 1)}\")\n",
        "  print(f\"the length of negative examples in train data is {np.count_nonzero(data_per_client[client]['labels'] == 0)}\")\n",
        "  print(\"\\n\")"
      ]
    },
    {
      "cell_type": "code",
      "execution_count": null,
      "metadata": {
        "id": "Ql1pao1bpYdd"
      },
      "outputs": [],
      "source": [
        "tff_dataset_train = tff.simulation.datasets.TestClientData(data_per_client)\n",
        "tff_dataset_valid = tff.simulation.datasets.TestClientData(data_per_client_valid)"
      ]
    },
    {
      "cell_type": "code",
      "execution_count": null,
      "metadata": {
        "id": "Wxi1VG_xaw78"
      },
      "outputs": [],
      "source": [
        "NUM_CLIENTS = 10\n",
        "NUM_EPOCHS = 3\n",
        "BATCH_SIZE = 16\n",
        "SHUFFLE_BUFFER = 200\n",
        "PREFETCH_BUFFER = 10\n",
        "\n",
        "def preprocess(dataset):\n",
        "\n",
        "  def batch_format_fn(element):\n",
        "    \"\"\"Flatten a batch of twitter data and return a (features, label) tuple.\"\"\"\n",
        "    return (tf.reshape(element['features'], [-1, 100]), \n",
        "            tf.reshape(element['labels'], [-1, 1]))\n",
        "\n",
        "  #return dataset.batch(BATCH_SIZE).map(batch_format_fn)\n",
        "  return dataset.repeat(NUM_EPOCHS).shuffle(SHUFFLE_BUFFER, seed=1).batch(BATCH_SIZE).map(batch_format_fn).prefetch(PREFETCH_BUFFER)"
      ]
    },
    {
      "cell_type": "code",
      "execution_count": null,
      "metadata": {
        "id": "Ne-Ep9N7YQ83"
      },
      "outputs": [],
      "source": [
        "federated_train_data = [preprocess(tff_dataset_train.create_tf_dataset_for_client(x))\n",
        "  for x in data_per_client.keys()\n",
        "]"
      ]
    },
    {
      "cell_type": "code",
      "execution_count": null,
      "metadata": {
        "id": "dyNju3zoPtRa"
      },
      "outputs": [],
      "source": [
        "def model_fn():\n",
        "  keras_model = create_keras_model(max_length, vocab_size, embedding_matrix)\n",
        "  return tff.learning.from_keras_model(\n",
        "      keras_model,\n",
        "      input_spec=federated_train_data[0].element_spec,\n",
        "      loss=tf.keras.losses.BinaryCrossentropy(),\n",
        "      metrics=[tf.keras.metrics.BinaryAccuracy()])"
      ]
    },
    {
      "cell_type": "code",
      "execution_count": null,
      "metadata": {
        "id": "iyWy4Sg5T650"
      },
      "outputs": [],
      "source": [
        "federated_training = tff.learning.algorithms.build_unweighted_fed_avg(\n",
        "    model_fn,\n",
        "    client_optimizer_fn=lambda: tf.keras.optimizers.SGD(learning_rate=0.05),\n",
        "    server_optimizer_fn=lambda: tf.keras.optimizers.SGD(learning_rate=1))"
      ]
    },
    {
      "cell_type": "code",
      "execution_count": null,
      "metadata": {
        "id": "FFcufrosZbkH"
      },
      "outputs": [],
      "source": [
        "federated_validation = tff.learning.build_federated_evaluation(model_fn)"
      ]
    },
    {
      "cell_type": "code",
      "execution_count": null,
      "metadata": {
        "id": "OZNQOaMsPEmp"
      },
      "outputs": [],
      "source": [
        "state = federated_training.initialize()\n",
        "metrics = collections.defaultdict(list)"
      ]
    },
    {
      "cell_type": "code",
      "execution_count": null,
      "metadata": {
        "colab": {
          "background_save": true,
          "base_uri": "https://localhost:8080/"
        },
        "id": "Qn5YJzJaImu9",
        "outputId": "a97c2cc5-d0ed-436e-d38a-1c5bdcff8b09"
      },
      "outputs": [
        {
          "name": "stdout",
          "output_type": "stream",
          "text": [
            "round:- 0\n",
            "accuracy:- 0.6885910034179688, loss:- 0.5858277082443237\n",
            "val_accuracy:- 0.6920415163040161, loss:- 0.5814634561538696\n",
            "round:- 1\n",
            "accuracy:- 0.6813362836837769, loss:- 0.5966031551361084\n",
            "val_accuracy:- 0.6868512034416199, loss:- 0.5862025022506714\n",
            "round:- 2\n",
            "accuracy:- 0.6854040622711182, loss:- 0.5881617069244385\n",
            "val_accuracy:- 0.6868512034416199, loss:- 0.5897621512413025\n",
            "round:- 3\n",
            "accuracy:- 0.6834182143211365, loss:- 0.589683473110199\n",
            "val_accuracy:- 0.686274528503418, loss:- 0.590855062007904\n",
            "round:- 4\n",
            "accuracy:- 0.6892796754837036, loss:- 0.5842031240463257\n",
            "val_accuracy:- 0.6941561102867126, loss:- 0.5799328088760376\n",
            "round:- 5\n",
            "accuracy:- 0.6886390447616577, loss:- 0.5824118256568909\n",
            "val_accuracy:- 0.6920415163040161, loss:- 0.5848318934440613\n",
            "round:- 6\n",
            "accuracy:- 0.6838666200637817, loss:- 0.5889559388160706\n",
            "val_accuracy:- 0.6849288940429688, loss:- 0.5827056169509888\n",
            "round:- 7\n",
            "accuracy:- 0.6887992024421692, loss:- 0.5844603776931763\n",
            "val_accuracy:- 0.697808563709259, loss:- 0.5843164324760437\n",
            "round:- 8\n",
            "accuracy:- 0.6880465149879456, loss:- 0.5820794105529785\n",
            "val_accuracy:- 0.6924259662628174, loss:- 0.582274317741394\n",
            "round:- 9\n",
            "accuracy:- 0.6911854147911072, loss:- 0.5819945931434631\n",
            "val_accuracy:- 0.6937716007232666, loss:- 0.5880976319313049\n",
            "round:- 10\n",
            "accuracy:- 0.6870535612106323, loss:- 0.5850139260292053\n",
            "val_accuracy:- 0.6845443844795227, loss:- 0.5869439244270325\n",
            "round:- 11\n",
            "accuracy:- 0.6859005093574524, loss:- 0.5854542255401611\n",
            "val_accuracy:- 0.6958861947059631, loss:- 0.5753507018089294\n",
            "round:- 12\n",
            "accuracy:- 0.6867973208427429, loss:- 0.5855945944786072\n",
            "val_accuracy:- 0.6918492913246155, loss:- 0.5832383036613464\n",
            "round:- 13\n",
            "accuracy:- 0.6865731477737427, loss:- 0.5856874585151672\n",
            "val_accuracy:- 0.6930027008056641, loss:- 0.5838951468467712\n",
            "round:- 14\n",
            "accuracy:- 0.6936036348342896, loss:- 0.5783216953277588\n",
            "val_accuracy:- 0.6976162791252136, loss:- 0.5771545767784119\n",
            "round:- 15\n",
            "accuracy:- 0.6907850503921509, loss:- 0.5802823305130005\n",
            "val_accuracy:- 0.693963885307312, loss:- 0.5839409828186035\n",
            "round:- 16\n",
            "accuracy:- 0.6869415044784546, loss:- 0.5869714617729187\n",
            "val_accuracy:- 0.689734697341919, loss:- 0.5825058221817017\n",
            "round:- 17\n",
            "accuracy:- 0.6862528324127197, loss:- 0.5870848894119263\n",
            "val_accuracy:- 0.6958861947059631, loss:- 0.5796085000038147\n",
            "round:- 18\n"
          ]
        }
      ],
      "source": [
        "#training_metrics = collections.defaultdict(list)\n",
        "#state = federated_training.initialize()\n",
        "for i in range(20):\n",
        "  print(f\"round:- {i}\")\n",
        "  # client_id = list(data_per_client.keys())\n",
        "  # random.shuffle(client_id)\n",
        "\n",
        "  client_id = np.random.choice(list(data_per_client.keys()),size=6)\n",
        "\n",
        "  federated_train_data = [preprocess(tff_dataset_train.create_tf_dataset_for_client(x))\n",
        "  for x in client_id\n",
        "  ]\n",
        "\n",
        "  result = federated_training.next(state, federated_train_data)\n",
        "\n",
        "  train_metrics = result.metrics\n",
        "\n",
        "  state = result.state\n",
        "\n",
        "  metrics['train_loss'].append(train_metrics['client_work']['train']['loss'])\n",
        "  metrics['train_accuracy'].append(train_metrics['client_work']['train']['binary_accuracy'])\n",
        "\n",
        "  federated_validation_data = [\n",
        "        preprocess(tff_dataset_valid.create_tf_dataset_for_client(c)) for c in client_id\n",
        "      ]\n",
        "\n",
        "  model_weights = federated_training.get_model_weights(state)\n",
        "  eval_result = federated_validation(model_weights, federated_validation_data)\n",
        "\n",
        "  metrics['eval_accuracy'].append(eval_result['eval']['binary_accuracy'])\n",
        "  metrics['eval_loss'].append(eval_result['eval']['loss'])\n",
        "\n",
        "  print(f\"accuracy:- {train_metrics['client_work']['train']['binary_accuracy']}, loss:- {train_metrics['client_work']['train']['loss']}\")\n",
        "  print(f\"val_accuracy:- {eval_result['eval']['binary_accuracy']}, loss:- {eval_result['eval']['loss']}\")\n"
      ]
    },
    {
      "cell_type": "code",
      "execution_count": null,
      "metadata": {
        "id": "iQKoluuDVtGP"
      },
      "outputs": [],
      "source": [
        "model = create_keras_model()\n",
        "model_weights = federated_training.get_model_weights(state)\n",
        "model_weights.assign_weights_to(model)\n"
      ]
    },
    {
      "cell_type": "code",
      "execution_count": null,
      "metadata": {
        "colab": {
          "base_uri": "https://localhost:8080/"
        },
        "id": "LQlk_yI8liou",
        "outputId": "a0aea283-823c-4853-83f0-28d29f8c6596"
      },
      "outputs": [
        {
          "name": "stdout",
          "output_type": "stream",
          "text": [
            "0.6980604628375457\n",
            "[[12577  5456]\n",
            " [ 5021 11645]]\n"
          ]
        }
      ],
      "source": [
        "temp = model.predict(X_train_padded)\n",
        "temp = temp > 0.5\n",
        "print(accuracy_score(train_data['sentiment'], np.round(temp)))\n",
        "print(confusion_matrix(train_data['sentiment'], temp))"
      ]
    },
    {
      "cell_type": "code",
      "execution_count": null,
      "metadata": {
        "colab": {
          "base_uri": "https://localhost:8080/"
        },
        "id": "HTGact32p3Wk",
        "outputId": "e815e2d3-5070-494b-ca23-10002600a29a"
      },
      "outputs": [
        {
          "name": "stdout",
          "output_type": "stream",
          "text": [
            "0.6946397694524495\n",
            "[[3134 1375]\n",
            " [1274 2892]]\n"
          ]
        }
      ],
      "source": [
        "temp = model.predict(X_valid_padded)\n",
        "temp = temp > 0.5\n",
        "print(accuracy_score(valid_data['sentiment'], np.round(temp)))\n",
        "print(confusion_matrix(valid_data['sentiment'], temp))"
      ]
    },
    {
      "cell_type": "code",
      "execution_count": null,
      "metadata": {
        "colab": {
          "base_uri": "https://localhost:8080/"
        },
        "id": "bpTE7G1FgRfy",
        "outputId": "e23d2a49-19c4-417c-fcaa-707aec1dba38"
      },
      "outputs": [
        {
          "name": "stdout",
          "output_type": "stream",
          "text": [
            "0.6979742173112339\n",
            "[[195  71]\n",
            " [ 93 184]]\n"
          ]
        }
      ],
      "source": [
        "temp = model.predict(X_test_paded)\n",
        "temp = temp > 0.5\n",
        "print(accuracy_score(df_test['sentiment'], np.round(temp)))\n",
        "print(confusion_matrix(df_test['sentiment'], temp))\n"
      ]
    },
    {
      "cell_type": "code",
      "execution_count": null,
      "metadata": {
        "colab": {
          "base_uri": "https://localhost:8080/"
        },
        "id": "JxKabiWI2AyO",
        "outputId": "91205a81-bd9b-45ef-e3e4-d4edfb583a95"
      },
      "outputs": [
        {
          "data": {
            "text/plain": [
              "defaultdict(list,\n",
              "            {'train_loss': [0.6926385,\n",
              "              0.6914445,\n",
              "              0.68956745,\n",
              "              0.6875602,\n",
              "              0.68738616,\n",
              "              0.68638057,\n",
              "              0.685905,\n",
              "              0.68681484,\n",
              "              0.68493474,\n",
              "              0.6853017,\n",
              "              0.6849778,\n",
              "              0.68048286,\n",
              "              0.6811932,\n",
              "              0.68168205,\n",
              "              0.67978746,\n",
              "              0.6784916,\n",
              "              0.6778253,\n",
              "              0.6749449,\n",
              "              0.67406905,\n",
              "              0.66792035,\n",
              "              0.6664814,\n",
              "              0.664774,\n",
              "              0.66155946,\n",
              "              0.6558937,\n",
              "              0.6515169,\n",
              "              0.6500192,\n",
              "              0.6555603,\n",
              "              0.650553,\n",
              "              0.6471243,\n",
              "              0.64548695,\n",
              "              0.6449382,\n",
              "              0.6432337,\n",
              "              0.64080733,\n",
              "              0.6349244,\n",
              "              0.63392675,\n",
              "              0.6346808,\n",
              "              0.63942957,\n",
              "              0.63555413,\n",
              "              0.6332516,\n",
              "              0.6309533,\n",
              "              0.6257386,\n",
              "              0.62237906,\n",
              "              0.62543076,\n",
              "              0.6217089,\n",
              "              0.6277893,\n",
              "              0.61759734,\n",
              "              0.6198856,\n",
              "              0.62324786,\n",
              "              0.6206566,\n",
              "              0.6173221,\n",
              "              0.61881214,\n",
              "              0.6155928,\n",
              "              0.6095898,\n",
              "              0.6137662,\n",
              "              0.61319494,\n",
              "              0.60793644,\n",
              "              0.6164326,\n",
              "              0.61276716,\n",
              "              0.614579,\n",
              "              0.6073749,\n",
              "              0.6068802,\n",
              "              0.6083917,\n",
              "              0.6066901,\n",
              "              0.60631126,\n",
              "              0.6060737,\n",
              "              0.6047461,\n",
              "              0.60156345,\n",
              "              0.59942377,\n",
              "              0.59984845,\n",
              "              0.6056098,\n",
              "              0.59759426,\n",
              "              0.6044291,\n",
              "              0.6037047,\n",
              "              0.60428804,\n",
              "              0.60158306,\n",
              "              0.59925246,\n",
              "              0.60117596,\n",
              "              0.5960924,\n",
              "              0.59665006,\n",
              "              0.6015237,\n",
              "              0.6007395,\n",
              "              0.5999088,\n",
              "              0.5928185,\n",
              "              0.5910948,\n",
              "              0.592798,\n",
              "              0.593717,\n",
              "              0.5923662,\n",
              "              0.58999646,\n",
              "              0.5848251,\n",
              "              0.59400964,\n",
              "              0.5948712,\n",
              "              0.5895474,\n",
              "              0.5912344,\n",
              "              0.58664477,\n",
              "              0.5886465,\n",
              "              0.59262615,\n",
              "              0.58967674,\n",
              "              0.5798702,\n",
              "              0.5866416,\n",
              "              0.5913201],\n",
              "             'train_accuracy': [0.5169597,\n",
              "              0.52298135,\n",
              "              0.5326543,\n",
              "              0.5425355,\n",
              "              0.54618686,\n",
              "              0.55073506,\n",
              "              0.54930973,\n",
              "              0.5438167,\n",
              "              0.5514077,\n",
              "              0.5486051,\n",
              "              0.55143976,\n",
              "              0.5648762,\n",
              "              0.56191343,\n",
              "              0.5607604,\n",
              "              0.56575704,\n",
              "              0.56900805,\n",
              "              0.5706095,\n",
              "              0.577544,\n",
              "              0.5780084,\n",
              "              0.59314245,\n",
              "              0.59604114,\n",
              "              0.60581017,\n",
              "              0.6081163,\n",
              "              0.6155953,\n",
              "              0.619631,\n",
              "              0.6225297,\n",
              "              0.6171167,\n",
              "              0.6167964,\n",
              "              0.6222094,\n",
              "              0.62441945,\n",
              "              0.6242273,\n",
              "              0.6273822,\n",
              "              0.6331636,\n",
              "              0.6397457,\n",
              "              0.63971364,\n",
              "              0.637904,\n",
              "              0.637936,\n",
              "              0.640114,\n",
              "              0.6354217,\n",
              "              0.6434932,\n",
              "              0.6512604,\n",
              "              0.6528939,\n",
              "              0.6515486,\n",
              "              0.6538708,\n",
              "              0.64679223,\n",
              "              0.65801865,\n",
              "              0.6542712,\n",
              "              0.6533423,\n",
              "              0.65252554,\n",
              "              0.65760225,\n",
              "              0.6538548,\n",
              "              0.65974826,\n",
              "              0.6678998,\n",
              "              0.66235864,\n",
              "              0.66330355,\n",
              "              0.6697415,\n",
              "              0.6568816,\n",
              "              0.6639762,\n",
              "              0.6625028,\n",
              "              0.6698536,\n",
              "              0.6685404,\n",
              "              0.6671471,\n",
              "              0.66850835,\n",
              "              0.6683002,\n",
              "              0.6676916,\n",
              "              0.6738253,\n",
              "              0.6744819,\n",
              "              0.67549086,\n",
              "              0.6752026,\n",
              "              0.6720797,\n",
              "              0.6769642,\n",
              "              0.6688447,\n",
              "              0.673473,\n",
              "              0.67137504,\n",
              "              0.67444986,\n",
              "              0.6768201,\n",
              "              0.6738093,\n",
              "              0.6804074,\n",
              "              0.6787739,\n",
              "              0.6752186,\n",
              "              0.67531466,\n",
              "              0.6761635,\n",
              "              0.68080777,\n",
              "              0.68476343,\n",
              "              0.68021524,\n",
              "              0.68304986,\n",
              "              0.67917424,\n",
              "              0.68585247,\n",
              "              0.6895199,\n",
              "              0.67957467,\n",
              "              0.6822331,\n",
              "              0.6867653,\n",
              "              0.68495566,\n",
              "              0.68657315,\n",
              "              0.6860126,\n",
              "              0.681064,\n",
              "              0.6851158,\n",
              "              0.69009644,\n",
              "              0.68812656,\n",
              "              0.6824253],\n",
              "             'eval_accuracy': [0.52575934,\n",
              "              0.53383315,\n",
              "              0.54594386,\n",
              "              0.5551711,\n",
              "              0.5519031,\n",
              "              0.56401384,\n",
              "              0.56728184,\n",
              "              0.5632449,\n",
              "              0.56189924,\n",
              "              0.5763168,\n",
              "              0.58112264,\n",
              "              0.56728184,\n",
              "              0.57016534,\n",
              "              0.5868897,\n",
              "              0.58016145,\n",
              "              0.5911188,\n",
              "              0.59554017,\n",
              "              0.6001538,\n",
              "              0.6189927,\n",
              "              0.59861594,\n",
              "              0.6366782,\n",
              "              0.6366782,\n",
              "              0.61976165,\n",
              "              0.62975776,\n",
              "              0.62206846,\n",
              "              0.6286044,\n",
              "              0.5747789,\n",
              "              0.6309112,\n",
              "              0.6566705,\n",
              "              0.644752,\n",
              "              0.6614764,\n",
              "              0.66032296,\n",
              "              0.651288,\n",
              "              0.6509035,\n",
              "              0.6635909,\n",
              "              0.6474433,\n",
              "              0.6487889,\n",
              "              0.6564783,\n",
              "              0.64090735,\n",
              "              0.66724336,\n",
              "              0.6662822,\n",
              "              0.66493654,\n",
              "              0.66378313,\n",
              "              0.66820455,\n",
              "              0.66724336,\n",
              "              0.6657055,\n",
              "              0.66993463,\n",
              "              0.6870434,\n",
              "              0.683391,\n",
              "              0.6755094,\n",
              "              0.6635909,\n",
              "              0.6764706,\n",
              "              0.6622453,\n",
              "              0.6730104,\n",
              "              0.6789696,\n",
              "              0.6830065,\n",
              "              0.6683968,\n",
              "              0.6778162,\n",
              "              0.6703191,\n",
              "              0.6805075,\n",
              "              0.6947328,\n",
              "              0.6749327,\n",
              "              0.6778162,\n",
              "              0.6860823,\n",
              "              0.6887736,\n",
              "              0.68838906,\n",
              "              0.6849289,\n",
              "              0.6941561,\n",
              "              0.6899269,\n",
              "              0.6856978,\n",
              "              0.6845444,\n",
              "              0.66089964,\n",
              "              0.68723565,\n",
              "              0.69338715,\n",
              "              0.6849289,\n",
              "              0.6897347,\n",
              "              0.6953095,\n",
              "              0.6880046,\n",
              "              0.6920415,\n",
              "              0.6935794,\n",
              "              0.6947328,\n",
              "              0.68762016,\n",
              "              0.6935794,\n",
              "              0.6937716,\n",
              "              0.6939639,\n",
              "              0.69857746,\n",
              "              0.6870434,\n",
              "              0.68723565,\n",
              "              0.6870434,\n",
              "              0.69223374,\n",
              "              0.6826221,\n",
              "              0.6885813,\n",
              "              0.6931949,\n",
              "              0.69627064,\n",
              "              0.6937716,\n",
              "              0.69242597,\n",
              "              0.6999231,\n",
              "              0.68550557,\n",
              "              0.6989619,\n",
              "              0.6976163],\n",
              "             'eval_loss': [0.6903101,\n",
              "              0.68969744,\n",
              "              0.68771666,\n",
              "              0.6860468,\n",
              "              0.6843281,\n",
              "              0.6833354,\n",
              "              0.6823713,\n",
              "              0.6818065,\n",
              "              0.68214905,\n",
              "              0.6801398,\n",
              "              0.6791171,\n",
              "              0.68115777,\n",
              "              0.6771478,\n",
              "              0.6757322,\n",
              "              0.67403936,\n",
              "              0.6717306,\n",
              "              0.67034644,\n",
              "              0.66889,\n",
              "              0.6641337,\n",
              "              0.6656412,\n",
              "              0.6535681,\n",
              "              0.6520386,\n",
              "              0.65193295,\n",
              "              0.6438329,\n",
              "              0.6441522,\n",
              "              0.64077854,\n",
              "              0.6665737,\n",
              "              0.6410228,\n",
              "              0.6342674,\n",
              "              0.6431166,\n",
              "              0.629002,\n",
              "              0.62782073,\n",
              "              0.6307589,\n",
              "              0.6373893,\n",
              "              0.623379,\n",
              "              0.62216353,\n",
              "              0.6185399,\n",
              "              0.6202008,\n",
              "              0.63251877,\n",
              "              0.6082081,\n",
              "              0.6148619,\n",
              "              0.6123043,\n",
              "              0.60381156,\n",
              "              0.6096752,\n",
              "              0.6139416,\n",
              "              0.60752213,\n",
              "              0.6149095,\n",
              "              0.5947415,\n",
              "              0.6011008,\n",
              "              0.59970117,\n",
              "              0.60977834,\n",
              "              0.5981132,\n",
              "              0.6051926,\n",
              "              0.5994244,\n",
              "              0.60157347,\n",
              "              0.5926594,\n",
              "              0.6164022,\n",
              "              0.5968772,\n",
              "              0.60326207,\n",
              "              0.5974283,\n",
              "              0.587357,\n",
              "              0.59829485,\n",
              "              0.60531634,\n",
              "              0.5925999,\n",
              "              0.5936871,\n",
              "              0.59013385,\n",
              "              0.5922965,\n",
              "              0.5893906,\n",
              "              0.5824195,\n",
              "              0.5898368,\n",
              "              0.58970076,\n",
              "              0.61790824,\n",
              "              0.59125507,\n",
              "              0.5839551,\n",
              "              0.593564,\n",
              "              0.5839334,\n",
              "              0.5845424,\n",
              "              0.58680195,\n",
              "              0.58615077,\n",
              "              0.58502984,\n",
              "              0.5867925,\n",
              "              0.58980894,\n",
              "              0.5831163,\n",
              "              0.5786451,\n",
              "              0.58474827,\n",
              "              0.5754343,\n",
              "              0.588944,\n",
              "              0.58864856,\n",
              "              0.5889506,\n",
              "              0.59083605,\n",
              "              0.5984485,\n",
              "              0.5883212,\n",
              "              0.57712245,\n",
              "              0.57048535,\n",
              "              0.58187956,\n",
              "              0.5856446,\n",
              "              0.5740379,\n",
              "              0.5868534,\n",
              "              0.5752046,\n",
              "              0.5779572]})"
            ]
          },
          "execution_count": 55,
          "metadata": {},
          "output_type": "execute_result"
        }
      ],
      "source": [
        "#new metrics\n",
        "metrics"
      ]
    },
    {
      "cell_type": "code",
      "execution_count": null,
      "metadata": {
        "colab": {
          "base_uri": "https://localhost:8080/",
          "height": 472
        },
        "id": "avEbxY57OpkO",
        "outputId": "83e3d898-8bed-4c22-b1e8-ec4d692e0b06"
      },
      "outputs": [
        {
          "data": {
            "image/png": "[encoded data removed]",
            "text/plain": [
              "<Figure size 640x480 with 1 Axes>"
            ]
          },
          "metadata": {},
          "output_type": "display_data"
        }
      ],
      "source": [
        "import matplotlib.pyplot as plt \n",
        "plt.plot(metrics['train_accuracy'], label = \"train accuracy\")\n",
        "plt.plot(metrics['eval_accuracy'], label = \"evaluation accuracy\")\n",
        "plt.ylabel(\"Accuracy\")\n",
        "plt.xlabel(\"Number of rounds of communication\")\n",
        "plt.title(\"plots for accuracy for federated model\")\n",
        "plt.legend()\n",
        "plt.show()"
      ]
    },
    {
      "cell_type": "code",
      "execution_count": null,
      "metadata": {
        "colab": {
          "base_uri": "https://localhost:8080/",
          "height": 472
        },
        "id": "ifxju6ooPRYi",
        "outputId": "feddd152-29b5-4164-a0b1-7581ef844b4f"
      },
      "outputs": [
        {
          "data": {
            "image/png": "[encoded data removed]",
            "text/plain": [
              "<Figure size 640x480 with 1 Axes>"
            ]
          },
          "metadata": {},
          "output_type": "display_data"
        }
      ],
      "source": [
        "plt.plot(metrics['train_loss'], label = \"train loss\")\n",
        "plt.plot(metrics['eval_loss'], label= \"evaluation loss\")\n",
        "plt.ylabel(\"Loss\")\n",
        "plt.xlabel(\"Number of rounds of communication\")\n",
        "plt.title(\"plots for Loss for federated model\")\n",
        "plt.legend()\n",
        "plt.show()"
      ]
    }
  ],
  "metadata": {
    "colab": {
      "provenance": []
    },
    "kernelspec": {
      "display_name": "Python 3",
      "name": "python3"
    },
    "language_info": {
      "name": "python"
    }
  },
  "nbformat": 4,
  "nbformat_minor": 0
}